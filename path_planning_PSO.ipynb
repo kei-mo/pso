{
  "nbformat": 4,
  "nbformat_minor": 0,
  "metadata": {
    "colab": {
      "name": "path_planning_PSO.ipynb",
      "version": "0.3.2",
      "provenance": [],
      "collapsed_sections": [],
      "toc_visible": true
    }
  },
  "cells": [
    {
      "metadata": {
        "id": "a9gZwaEUF-mf",
        "colab_type": "code",
        "colab": {}
      },
      "cell_type": "code",
      "source": [
        "import numpy as np\n",
        "import matplotlib.pyplot as plt\n",
        "%matplotlib inline"
      ],
      "execution_count": 0,
      "outputs": []
    },
    {
      "metadata": {
        "id": "av-5pLUoGA73",
        "colab_type": "text"
      },
      "cell_type": "markdown",
      "source": [
        "# Problem Definition"
      ]
    },
    {
      "metadata": {
        "id": "r15fDPCrGAYr",
        "colab_type": "code",
        "colab": {}
      },
      "cell_type": "code",
      "source": [
        "class Problem:\n",
        "  \n",
        "  nVar = 4 # Number of Unknown Variables\n",
        "  varMin = -1.0 # Lower bound of decision variables\n",
        "  varMax = 1.0 # Upper bond\n",
        "  \n",
        "  \n",
        "  ### params and function for solving path planning ###\n",
        "  def __init__(self):\n",
        "    varMin = self.varMin\n",
        "    varMax = self.varMax\n",
        "    nVar = self.nVar\n",
        "    \n",
        "    self.startPos = [np.random.uniform(varMin,varMax),np.random.uniform(varMin,varMax)]\n",
        "    # startPos = [-0.25,-0.75]\n",
        "    # startPos = [-1.0,-1.0]\n",
        "    self.goalPos = [0.0,0.75] \n",
        "    self.nPos = nVar/2\n",
        "    self.wallList = np.array([[[ 0.5 , 0.0],[ 1.0 ,  0.0]], # wall1\n",
        "                         [[   0.0, 0.0],[-0.75,  0.0]], # wall2\n",
        "                         [[-0.75, 0.0],[-0.75, -0.5]]]) # wall3\n",
        "  \n",
        "  def costFunction(self,x):\n",
        "    startPos = self.startPos\n",
        "    goalPos = self.goalPos \n",
        "    nPos = self.nPos # Number of Position\n",
        "    \n",
        "    \n",
        "    ## Caluculate the Length of Path\n",
        "    length = 0\n",
        "    # Distance Between Start and First Node\n",
        "    p1 = startPos\n",
        "    p2 = [x[0],x[1]]\n",
        "    wallCrossing = self.crossWall(p1,p2,self.wallList)\n",
        "    if wallCrossing:\n",
        "      length += float('inf') # If cross wall\n",
        "    else:\n",
        "      length += np.sqrt((startPos[0]-x[0])**2 + (startPos[1]-x[1])**2) \n",
        "    \n",
        "    # Distance Between Goal and Last Node\n",
        "    p1 = [x[-2],x[-1]]\n",
        "    p2 = goalPos\n",
        "    wallCrossing = self.crossWall(p1,p2,self.wallList)\n",
        "    if wallCrossing:\n",
        "      length += float('inf') # If cross wall\n",
        "    else:\n",
        "      length += np.sqrt((goalPos[0]-x[-2])**2 + (goalPos[1]-x[-1])**2) \n",
        "    \n",
        "    # Distance Between Each Nodes\n",
        "    for i in range(nPos-1):\n",
        "      p1 = [x[2*i],x[2*i+1]]\n",
        "      p2 = [x[2*i+2],x[2*i+3]]\n",
        "      wallCrossing = self.crossWall(p1,p2,self.wallList)\n",
        "      \n",
        "      if wallCrossing:\n",
        "        length += float('inf') # If cross wall\n",
        "      else:\n",
        "        length += np.sqrt((x[2*i+2]-x[2*i])**2 + (x[2*i+3]-x[2*i+1])**2) \n",
        "\n",
        "    return length\n",
        "  \n",
        "  def crossWall(self,p1,p2,wallList):\n",
        "    crossWallNum = 0\n",
        "    for wall in wallList:\n",
        "      p3 = wall[0]\n",
        "      p4 = wall[1]\n",
        "      t1 = (p1[0] - p2[0]) * (p3[1] - p1[1]) + (p1[1] - p2[1]) * (p1[0] - p3[0])\n",
        "      t2 = (p1[0] - p2[0]) * (p4[1] - p1[1]) + (p1[1] - p2[1]) * (p1[0] - p4[0])\n",
        "      t3 = (p3[0] - p4[0]) * (p1[1] - p3[1]) + (p3[1] - p4[1]) * (p3[0] - p1[0])\n",
        "      t4 = (p3[0] - p4[0]) * (p2[1] - p3[1]) + (p3[1] - p4[1]) * (p3[0] - p2[0])\n",
        "      if t1*t2<=0.04 and t3*t4<=0.04:\n",
        "        crossWallNum += 1\n",
        "    if crossWallNum ==0:\n",
        "      wallCrossing = False\n",
        "    else:\n",
        "      wallCrossing = True\n",
        "    \n",
        "    return wallCrossing"
      ],
      "execution_count": 0,
      "outputs": []
    },
    {
      "metadata": {
        "id": "5etAZ0SSBPQE",
        "colab_type": "text"
      },
      "cell_type": "markdown",
      "source": [
        "# Visualization of Problem"
      ]
    },
    {
      "metadata": {
        "id": "71L1ZSbIBOuD",
        "colab_type": "code",
        "colab": {}
      },
      "cell_type": "code",
      "source": [
        "problem = Problem()\n",
        "wallList = problem.wallList\n",
        "startPos = problem.startPos\n",
        "goalPos = problem.goalPos"
      ],
      "execution_count": 0,
      "outputs": []
    },
    {
      "metadata": {
        "id": "TTs3XLsvFmHN",
        "colab_type": "code",
        "colab": {
          "base_uri": "https://localhost:8080/",
          "height": 288
        },
        "outputId": "a4a5e05e-39da-4b3a-e4a5-c3cc207eafb8"
      },
      "cell_type": "code",
      "source": [
        "for wall in wallList:\n",
        "  plt.plot([wall[0][0],wall[1][0]], [wall[0][1],wall[1][1]], 'k-', lw=5)\n",
        "\n",
        "plt.scatter(startPos[0],startPos[1]) # Plot Start Position\n",
        "plt.scatter(goalPos[0],goalPos[1]) # Plot Goal Position\n",
        "\n",
        "plt.xlim(1,-1)\n",
        "plt.ylim(-1,1)"
      ],
      "execution_count": 20,
      "outputs": [
        {
          "output_type": "execute_result",
          "data": {
            "text/plain": [
              "(-1, 1)"
            ]
          },
          "metadata": {
            "tags": []
          },
          "execution_count": 20
        },
        {
          "output_type": "display_data",
          "data": {
            "image/png": "[encoded data removed]",
            "text/plain": [
              "<matplotlib.figure.Figure at 0x7f1bb2785d50>"
            ]
          },
          "metadata": {
            "tags": []
          }
        }
      ]
    },
    {
      "metadata": {
        "id": "Jyk0bzJuG2CA",
        "colab_type": "text"
      },
      "cell_type": "markdown",
      "source": [
        "# Parameters of PSO"
      ]
    },
    {
      "metadata": {
        "id": "8dW8EFw2G2sK",
        "colab_type": "code",
        "colab": {}
      },
      "cell_type": "code",
      "source": [
        "class Params:\n",
        "  maxIt = 100        # Maximum number of iteration\n",
        "  nPop = 50           # Population size (swarm size)\n",
        "  w = 1               # Intertia coefficient\n",
        "  wDamp = 0.995         # Damping Ratio of Intertia Coefficient\n",
        "  c1 = 2              # Personal accelation coefficient\n",
        "  c2 = 2              # Social accelation coefficient\n",
        "  showIterInfo = False"
      ],
      "execution_count": 0,
      "outputs": []
    },
    {
      "metadata": {
        "id": "cUycZJxpHmzy",
        "colab_type": "text"
      },
      "cell_type": "markdown",
      "source": [
        "# Initialization"
      ]
    },
    {
      "metadata": {
        "id": "XpZPkNvpG_Ao",
        "colab_type": "code",
        "colab": {}
      },
      "cell_type": "code",
      "source": [
        "# Class for each particle\n",
        "class Particle:\n",
        "\n",
        "  Position = []\n",
        "  Velocity = []\n",
        "  Cost = []\n",
        "  bestPosition = []\n",
        "  bestCost = []\n"
      ],
      "execution_count": 0,
      "outputs": []
    },
    {
      "metadata": {
        "id": "GGPmPhFbRdVr",
        "colab_type": "code",
        "colab": {}
      },
      "cell_type": "code",
      "source": [
        "# Class for Global Best\n",
        "class GlobalBest:\n",
        "  \n",
        "  Cost = float('inf')\n",
        "  Position = []"
      ],
      "execution_count": 0,
      "outputs": []
    },
    {
      "metadata": {
        "id": "IS0PMbFtL6dc",
        "colab_type": "code",
        "colab": {}
      },
      "cell_type": "code",
      "source": [
        "# Initialize \n",
        "global_best = GlobalBest()\n",
        "params = Params()\n",
        "problem = Problem()\n",
        "\n",
        "# problem\n",
        "nVar = problem.nVar # Number of Unknown Variables\n",
        "varMin = problem.varMin # Lower bound of decision variables\n",
        "varMax = problem.varMax\n",
        "\n",
        "wallList = problem.wallList\n",
        "startPos = problem.startPos\n",
        "goalPos = problem.goalPos\n",
        "\n",
        "# paramaters\n",
        "maxIt = params.maxIt        # Maximum number of iteration\n",
        "nPop = params.nPop           # Population size (swarm size)\n",
        "w =  params.w             # Intertia coefficient\n",
        "wDamp =  params.wDamp      # Damping Ratio of Intertia Coefficient\n",
        "c1 = params.c1           # Personal accelation coefficient\n",
        "c2 = params.c2           # Social accelation coefficient\n",
        "showIterInfo = params.showIterInfo\n",
        "\n",
        "maxVelocity = 0.2*(varMax - varMin)\n",
        "minVelocity = - maxVelocity\n"
      ],
      "execution_count": 0,
      "outputs": []
    },
    {
      "metadata": {
        "id": "NOyNdJ0xAE7J",
        "colab_type": "code",
        "colab": {}
      },
      "cell_type": "code",
      "source": [
        "# Create Population Array\n",
        "particle = np.array([Particle() for i in range(params.nPop)])\n",
        "\n",
        "# Initialize Population Array\n",
        "while len(global_best.Position)==0:\n",
        "  for i in range(params.nPop):\n",
        "    particle[i].Position = np.array([np.random.uniform(varMin,varMax) for j in range(nVar)])\n",
        "    particle[i].Velocity = np.zeros(nVar)\n",
        "    particle[i].Cost = problem.costFunction(particle[i].Position)\n",
        "    particle[i].bestPosition = particle[i].Position\n",
        "    particle[i].bestCost = particle[i].Cost\n",
        "\n",
        "    # Update Global Best\n",
        "    if particle[i].bestCost < global_best.Cost:\n",
        "      global_best.Cost = particle[i].bestCost\n",
        "      global_best.Position = particle[i].bestPosition\n"
      ],
      "execution_count": 0,
      "outputs": []
    },
    {
      "metadata": {
        "id": "_1tEFrQhAGNg",
        "colab_type": "code",
        "colab": {}
      },
      "cell_type": "code",
      "source": [
        "# Array to Hold Best Cost Value on Each Iteration\n",
        "bestCostList = []\n",
        "bestPositionList =[]"
      ],
      "execution_count": 0,
      "outputs": []
    },
    {
      "metadata": {
        "id": "ILopsKomS1hM",
        "colab_type": "text"
      },
      "cell_type": "markdown",
      "source": [
        "# Main Loop of PSO"
      ]
    },
    {
      "metadata": {
        "id": "ZIF_YbbdJmaD",
        "colab_type": "code",
        "colab": {}
      },
      "cell_type": "code",
      "source": [
        "\n",
        "for it in range(maxIt):\n",
        "    for i in range(nVar):\n",
        "      # Update Velocity\n",
        "      particle[i].Velocity = w * particle[i].Velocity \\\n",
        "                            + np.random.rand()*c1*(particle[i].bestPosition - particle[i].Position) \\\n",
        "                            + np.random.rand()*c2*(global_best.Position - particle[i].Position)\n",
        "      # Apply Velocity Limits\n",
        "      particle[i].Velocity = np.array([max(particle[i].Velocity[k],minVelocity) for k in range(nVar)])\n",
        "      particle[i].Velocity = np.array([min(particle[i].Velocity[k],maxVelocity) for k in range(nVar)])\n",
        "      \n",
        "      \n",
        "      # Update Position\n",
        "      particle[i].Position = particle[i].Position + particle[i].Velocity\n",
        "\n",
        "      # Apply Lower and Upper Bound Limits\n",
        "      particle[i].Position = np.array([max(particle[i].Position[k],varMin) for k in range(nVar)])\n",
        "      particle[i].Position = np.array([min(particle[i].Position[k],varMax) for k in range(nVar)])\n",
        "\n",
        "      # Ebaluation\n",
        "      particle[i].Cost = problem.costFunction(particle[i].Position)\n",
        "      # print(particle[i].Cost)\n",
        "      # Update Personal Best\n",
        "      if particle[i].Cost < particle[i].bestCost:\n",
        "        particle[i].bestPosition = particle[i].Position\n",
        "        particle[i].bestCost = particle[i].Cost\n",
        "        \n",
        "        # Update Global Best\n",
        "        if particle[i].bestCost < global_best.Cost:\n",
        "          global_best.Cost = particle[i].bestCost\n",
        "          global_best.Position = particle[i].bestPosition\n",
        "      \n",
        "    # Store the Best Cost Value\n",
        "    bestCostList.append(global_best.Cost)\n",
        "    bestPositionList.append(global_best.Position)\n",
        "    \n",
        "    # Display Iteration Information\n",
        "    if showIterInfo:\n",
        "      print(\"Iteration:\" + str(it)+ \"--Best Cost =\" + str(global_best.Cost))\n",
        "\n",
        "      \n",
        "    # Damping Intertia\n",
        "    w = w*wDamp\n",
        "    "
      ],
      "execution_count": 0,
      "outputs": []
    },
    {
      "metadata": {
        "id": "39bv3Hk2VIWr",
        "colab_type": "text"
      },
      "cell_type": "markdown",
      "source": [
        "# Results"
      ]
    },
    {
      "metadata": {
        "id": "uSq_4cwqKO17",
        "colab_type": "code",
        "colab": {
          "base_uri": "https://localhost:8080/",
          "height": 36
        },
        "outputId": "54d573df-f71d-412b-a0e7-db5556c93f78"
      },
      "cell_type": "code",
      "source": [
        "global_best.Position"
      ],
      "execution_count": 28,
      "outputs": [
        {
          "output_type": "execute_result",
          "data": {
            "text/plain": [
              "array([0.19662189, 0.81946306, 0.11749094, 0.80089545])"
            ]
          },
          "metadata": {
            "tags": []
          },
          "execution_count": 28
        }
      ]
    },
    {
      "metadata": {
        "id": "muasa1gmKS4Z",
        "colab_type": "code",
        "colab": {}
      },
      "cell_type": "code",
      "source": [
        "pathX = [startPos[0]]\n",
        "pathX.extend([global_best.Position[2*i] for i in range(problem.nPos)])\n",
        "pathX.extend([goalPos[0]])\n",
        "\n",
        "pathY = [startPos[1]]\n",
        "pathY.extend([global_best.Position[2*i+1] for i in range(problem.nPos)])\n",
        "pathY.extend([goalPos[1]])"
      ],
      "execution_count": 0,
      "outputs": []
    },
    {
      "metadata": {
        "id": "Cit4j-AtJC0w",
        "colab_type": "code",
        "colab": {
          "base_uri": "https://localhost:8080/",
          "height": 288
        },
        "outputId": "0117cd72-a630-4d7e-c7c3-d7815200d427"
      },
      "cell_type": "code",
      "source": [
        "for wall in wallList:\n",
        "  plt.plot([wall[0][0],wall[1][0]], [wall[0][1],wall[1][1]], 'k-', lw=1)\n",
        "\n",
        "\n",
        "plt.plot(pathX,pathY,\"m-o\",lw=3)\n",
        "plt.scatter(goalPos[0],goalPos[1],s=300,marker='o') # Plot Goal Position\n",
        "plt.scatter(startPos[0],startPos[1],s=300,marker='o') # Plot Start Position\n",
        "\n",
        "plt.xlim(1,-1)\n",
        "plt.ylim(-1,1)"
      ],
      "execution_count": 30,
      "outputs": [
        {
          "output_type": "execute_result",
          "data": {
            "text/plain": [
              "(-1, 1)"
            ]
          },
          "metadata": {
            "tags": []
          },
          "execution_count": 30
        },
        {
          "output_type": "display_data",
          "data": {
            "image/png": "[encoded data removed]",
            "text/plain": [
              "<matplotlib.figure.Figure at 0x7f1bb2807250>"
            ]
          },
          "metadata": {
            "tags": []
          }
        }
      ]
    },
    {
      "metadata": {
        "id": "V3gEEAlFT2-Z",
        "colab_type": "code",
        "colab": {
          "base_uri": "https://localhost:8080/",
          "height": 284
        },
        "outputId": "8f93f6d7-5855-428d-b2fe-4e63ac4ce297"
      },
      "cell_type": "code",
      "source": [
        "plt.plot(bestCostList)\n",
        "# plt.xscale('log')\n",
        "# plt.yscale('log')"
      ],
      "execution_count": 16,
      "outputs": [
        {
          "output_type": "execute_result",
          "data": {
            "text/plain": [
              "[<matplotlib.lines.Line2D at 0x7f1bb27d3450>]"
            ]
          },
          "metadata": {
            "tags": []
          },
          "execution_count": 16
        },
        {
          "output_type": "display_data",
          "data": {
            "image/png": "[encoded data removed]",
            "text/plain": [
              "<matplotlib.figure.Figure at 0x7f1bb51d75d0>"
            ]
          },
          "metadata": {
            "tags": []
          }
        }
      ]
    },
    {
      "metadata": {
        "id": "_3IM6MH-d8y4",
        "colab_type": "code",
        "colab": {
          "base_uri": "https://localhost:8080/",
          "height": 287
        },
        "outputId": "9539b5c4-477d-45d1-dc6e-cbf45275b3aa"
      },
      "cell_type": "code",
      "source": [
        "for wall in wallList:\n",
        "  plt.plot([wall[0][0],wall[1][0]], [wall[0][1],wall[1][1]], 'k-', lw=1)\n",
        "\n",
        "plt.scatter(goalPos[0],goalPos[1],s=300,marker='o') # Plot Goal Position\n",
        "plt.scatter(startPos[0],startPos[1],s=300,marker='o') # Plot Start Position\n",
        "\n",
        "plt.xlim(1,-1)\n",
        "plt.ylim(-1,1)\n",
        "\n",
        "for k in range(maxIt):\n",
        "  pathX = [startPos[0]]\n",
        "  pathX.extend([bestPositionList[k][2*i] for i in range(problem.nPos)])\n",
        "  pathX.extend([goalPos[0]])\n",
        "\n",
        "  pathY = [startPos[1]]\n",
        "  pathY.extend([bestPositionList[k][2*i+1] for i in range(problem.nPos)])\n",
        "  pathY.extend([goalPos[1]])\n",
        "  plt.plot(pathX,pathY,\"c-\",lw=3,alpha=0.1)\n",
        "\n",
        "plt.plot(pathX,pathY,\"m-o\",lw=3)\n",
        "  \n"
      ],
      "execution_count": 830,
      "outputs": [
        {
          "output_type": "execute_result",
          "data": {
            "text/plain": [
              "[<matplotlib.lines.Line2D at 0x7fd5836d5a50>]"
            ]
          },
          "metadata": {
            "tags": []
          },
          "execution_count": 830
        },
        {
          "output_type": "display_data",
          "data": {
            "image/png": "[encoded data removed]",
            "text/plain": [
              "<matplotlib.figure.Figure at 0x7fd58388b7d0>"
            ]
          },
          "metadata": {
            "tags": []
          }
        }
      ]
    },
    {
      "metadata": {
        "id": "cbghON8bgk2C",
        "colab_type": "code",
        "colab": {}
      },
      "cell_type": "code",
      "source": [
        ""
      ],
      "execution_count": 0,
      "outputs": []
    }
  ]
}