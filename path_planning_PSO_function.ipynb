{
  "nbformat": 4,
  "nbformat_minor": 0,
  "metadata": {
    "colab": {
      "name": "path_planning_PSO_function.ipynb",
      "version": "0.3.2",
      "provenance": [],
      "collapsed_sections": [],
      "toc_visible": true
    }
  },
  "cells": [
    {
      "metadata": {
        "id": "a9gZwaEUF-mf",
        "colab_type": "code",
        "colab": {}
      },
      "cell_type": "code",
      "source": [
        "import numpy as np\n",
        "import matplotlib.pyplot as plt\n",
        "%matplotlib inline"
      ],
      "execution_count": 0,
      "outputs": []
    },
    {
      "metadata": {
        "id": "av-5pLUoGA73",
        "colab_type": "text"
      },
      "cell_type": "markdown",
      "source": [
        "# Function"
      ]
    },
    {
      "metadata": {
        "id": "uNWfAlual9R4",
        "colab_type": "text"
      },
      "cell_type": "markdown",
      "source": [
        "## Classes"
      ]
    },
    {
      "metadata": {
        "id": "Tw_pqWdHmA8c",
        "colab_type": "text"
      },
      "cell_type": "markdown",
      "source": [
        "Problem  : Definition of problem  \n",
        "Params  : Paramaters for PSO  \n",
        "Particle  \n",
        "GlobalBest  "
      ]
    },
    {
      "metadata": {
        "id": "r15fDPCrGAYr",
        "colab_type": "code",
        "colab": {}
      },
      "cell_type": "code",
      "source": [
        "class Problem:\n",
        "  \n",
        "  nVar = 4 # Number of Unknown Variables\n",
        "  varMin = -1.0 # Lower bound of decision variables\n",
        "  varMax = 1.0 # Upper bond\n",
        "  \n",
        "  \n",
        "  ### params and function for solving path planning ###\n",
        "  def __init__(self):\n",
        "    varMin = self.varMin\n",
        "    varMax = self.varMax\n",
        "    nVar = self.nVar\n",
        "    \n",
        "    self.startPos = [np.random.uniform(varMin,varMax),np.random.uniform(varMin,varMax)]\n",
        "    # startPos = [-0.25,-0.75]\n",
        "    # startPos = [-1.0,-1.0]\n",
        "    self.goalPos = [0.0,0.75] \n",
        "    self.nPos = nVar/2\n",
        "    self.wallList = np.array([[[ 0.5 , 0.0],[ 1.0 ,  0.0]], # wall1\n",
        "                         [[   0.0, 0.0],[-0.75,  0.0]], # wall2\n",
        "                         [[-0.75, 0.0],[-0.75, -0.5]]]) # wall3\n",
        "  \n",
        "  def costFunction(self,x):\n",
        "    startPos = self.startPos\n",
        "    goalPos = self.goalPos \n",
        "    nPos = self.nPos # Number of Position\n",
        "    \n",
        "    \n",
        "    ## Caluculate the Length of Path\n",
        "    length = 0\n",
        "    # Distance Between Start and First Node\n",
        "    p1 = startPos\n",
        "    p2 = [x[0],x[1]]\n",
        "    wallCrossing = self.crossWall(p1,p2,self.wallList)\n",
        "    if wallCrossing:\n",
        "      length += float('inf') # If cross wall\n",
        "    else:\n",
        "      length += np.sqrt((startPos[0]-x[0])**2 + (startPos[1]-x[1])**2) \n",
        "    \n",
        "    # Distance Between Goal and Last Node\n",
        "    p1 = [x[-2],x[-1]]\n",
        "    p2 = goalPos\n",
        "    wallCrossing = self.crossWall(p1,p2,self.wallList)\n",
        "    if wallCrossing:\n",
        "      length += float('inf') # If cross wall\n",
        "    else:\n",
        "      length += np.sqrt((goalPos[0]-x[-2])**2 + (goalPos[1]-x[-1])**2) \n",
        "    \n",
        "    # Distance Between Each Nodes\n",
        "    for i in range(nPos-1):\n",
        "      p1 = [x[2*i],x[2*i+1]]\n",
        "      p2 = [x[2*i+2],x[2*i+3]]\n",
        "      wallCrossing = self.crossWall(p1,p2,self.wallList)\n",
        "      \n",
        "      if wallCrossing:\n",
        "        length += float('inf') # If cross wall\n",
        "      else:\n",
        "        length += np.sqrt((x[2*i+2]-x[2*i])**2 + (x[2*i+3]-x[2*i+1])**2) \n",
        "\n",
        "    return length\n",
        "  \n",
        "  def crossWall(self,p1,p2,wallList):\n",
        "    crossWallNum = 0\n",
        "    for wall in wallList:\n",
        "      p3 = wall[0]\n",
        "      p4 = wall[1]\n",
        "      t1 = (p1[0] - p2[0]) * (p3[1] - p1[1]) + (p1[1] - p2[1]) * (p1[0] - p3[0])\n",
        "      t2 = (p1[0] - p2[0]) * (p4[1] - p1[1]) + (p1[1] - p2[1]) * (p1[0] - p4[0])\n",
        "      t3 = (p3[0] - p4[0]) * (p1[1] - p3[1]) + (p3[1] - p4[1]) * (p3[0] - p1[0])\n",
        "      t4 = (p3[0] - p4[0]) * (p2[1] - p3[1]) + (p3[1] - p4[1]) * (p3[0] - p2[0])\n",
        "      if t1*t2<=0.04 and t3*t4<=0.04:\n",
        "        crossWallNum += 1\n",
        "    if crossWallNum ==0:\n",
        "      wallCrossing = False\n",
        "    else:\n",
        "      wallCrossing = True\n",
        "    \n",
        "    return wallCrossing"
      ],
      "execution_count": 0,
      "outputs": []
    },
    {
      "metadata": {
        "id": "8dW8EFw2G2sK",
        "colab_type": "code",
        "colab": {}
      },
      "cell_type": "code",
      "source": [
        "class Params:\n",
        "  maxIt = 500        # Maximum number of iteration\n",
        "  nPop = 50000 # Population size (swarm size)\n",
        "  w = 1               # Intertia coefficient\n",
        "  wDamp = 0.999         # Damping Ratio of Intertia Coefficient\n",
        "  c1 = 2              # Personal accelation coefficient\n",
        "  c2 = 2              # Social accelation coefficient\n",
        "  showIterInfo = False # Show "
      ],
      "execution_count": 0,
      "outputs": []
    },
    {
      "metadata": {
        "id": "XpZPkNvpG_Ao",
        "colab_type": "code",
        "colab": {}
      },
      "cell_type": "code",
      "source": [
        "# Class for each particle\n",
        "class Particle:\n",
        "  Position = []\n",
        "  Velocity = []\n",
        "  Cost = []\n",
        "  bestPosition = []\n",
        "  bestCost = []\n"
      ],
      "execution_count": 0,
      "outputs": []
    },
    {
      "metadata": {
        "id": "GGPmPhFbRdVr",
        "colab_type": "code",
        "colab": {}
      },
      "cell_type": "code",
      "source": [
        "# Class for Global Best\n",
        "class GlobalBest:\n",
        "  Cost = float('inf')\n",
        "  Position = []"
      ],
      "execution_count": 0,
      "outputs": []
    },
    {
      "metadata": {
        "id": "EcwQYRNXmMIa",
        "colab_type": "text"
      },
      "cell_type": "markdown",
      "source": [
        "## Main Function"
      ]
    },
    {
      "metadata": {
        "id": "IS0PMbFtL6dc",
        "colab_type": "code",
        "colab": {}
      },
      "cell_type": "code",
      "source": [
        "def PSO(problem,params):\n",
        "  \n",
        "  ## Initialize \n",
        "  global_best = GlobalBest()\n",
        "  # Array to Hold Best Cost Value on Each Iteration\n",
        "  bestCostList = []\n",
        "  bestPositionList =[]\n",
        "\n",
        "  # problem\n",
        "  nVar = problem.nVar # Number of Unknown Variables\n",
        "  varMin = problem.varMin # Lower bound of decision variables\n",
        "  varMax = problem.varMax\n",
        "  # paramaters\n",
        "  maxIt = params.maxIt        # Maximum number of iteration\n",
        "  nPop = params.nPop           # Population size (swarm size)\n",
        "  w =  params.w             # Intertia coefficient\n",
        "  wDamp =  params.wDamp      # Damping Ratio of Intertia Coefficient\n",
        "  c1 = params.c1           # Personal accelation coefficient\n",
        "  c2 = params.c2           # Social accelation coefficient\n",
        "  showIterInfo = params.showIterInfo\n",
        "\n",
        "  maxVelocity = 0.2*(varMax - varMin)\n",
        "  minVelocity = - maxVelocity\n",
        "\n",
        "  # Create Population Array\n",
        "  particle = np.array([Particle() for i in range(params.nPop)])\n",
        "\n",
        "  # Initialize Population Array\n",
        "  while len(global_best.Position)==0:\n",
        "    for i in range(params.nPop):\n",
        "      particle[i].Position = np.array([np.random.uniform(varMin,varMax) for j in range(nVar)])\n",
        "      particle[i].Velocity = np.zeros(nVar)\n",
        "      particle[i].Cost = problem.costFunction(particle[i].Position)\n",
        "      particle[i].bestPosition = particle[i].Position\n",
        "      particle[i].bestCost = particle[i].Cost\n",
        "\n",
        "      # Update Global Best\n",
        "      if particle[i].bestCost < global_best.Cost:\n",
        "        global_best.Cost = particle[i].bestCost\n",
        "        global_best.Position = particle[i].bestPosition\n",
        "  \n",
        "\n",
        "  for it in range(maxIt):\n",
        "      for i in range(nVar):\n",
        "        # Update Velocity\n",
        "        particle[i].Velocity = w * particle[i].Velocity \\\n",
        "                              + np.random.rand()*c1*(particle[i].bestPosition - particle[i].Position) \\\n",
        "                              + np.random.rand()*c2*(global_best.Position - particle[i].Position)\n",
        "        # Apply Velocity Limits\n",
        "        particle[i].Velocity = np.array([max(particle[i].Velocity[k],minVelocity) for k in range(nVar)])\n",
        "        particle[i].Velocity = np.array([min(particle[i].Velocity[k],maxVelocity) for k in range(nVar)])\n",
        "\n",
        "\n",
        "        # Update Position\n",
        "        particle[i].Position = particle[i].Position + particle[i].Velocity\n",
        "\n",
        "        # Apply Lower and Upper Bound Limits\n",
        "        particle[i].Position = np.array([max(particle[i].Position[k],varMin) for k in range(nVar)])\n",
        "        particle[i].Position = np.array([min(particle[i].Position[k],varMax) for k in range(nVar)])\n",
        "\n",
        "        # Ebaluation\n",
        "        particle[i].Cost = problem.costFunction(particle[i].Position)\n",
        "        # print(particle[i].Cost)\n",
        "        # Update Personal Best\n",
        "        if particle[i].Cost < particle[i].bestCost:\n",
        "          particle[i].bestPosition = particle[i].Position\n",
        "          particle[i].bestCost = particle[i].Cost\n",
        "\n",
        "          # Update Global Best\n",
        "          if particle[i].bestCost < global_best.Cost:\n",
        "            global_best.Cost = particle[i].bestCost\n",
        "            global_best.Position = particle[i].bestPosition\n",
        "\n",
        "      # Store the Best Cost Value\n",
        "      bestCostList.append(global_best.Cost)\n",
        "      bestPositionList.append(global_best.Position)\n",
        "      # Display Iteration Information\n",
        "      if showIterInfo:\n",
        "        print(\"Iteration:\" + str(it)+ \"--Best Cost =\" + str(global_best.Cost))\n",
        "\n",
        "      # Damping Intertia\n",
        "      w = w*wDamp\n",
        "      \n",
        "  return global_best,bestCostList,bestPositionList"
      ],
      "execution_count": 0,
      "outputs": []
    },
    {
      "metadata": {
        "id": "39bv3Hk2VIWr",
        "colab_type": "text"
      },
      "cell_type": "markdown",
      "source": [
        "# Run"
      ]
    },
    {
      "metadata": {
        "id": "uSq_4cwqKO17",
        "colab_type": "code",
        "colab": {}
      },
      "cell_type": "code",
      "source": [
        "params = Params()\n",
        "problem = Problem()"
      ],
      "execution_count": 0,
      "outputs": []
    },
    {
      "metadata": {
        "id": "NbBrVAWLpAvc",
        "colab_type": "text"
      },
      "cell_type": "markdown",
      "source": [
        ""
      ]
    },
    {
      "metadata": {
        "id": "mwtxDfSQpvCP",
        "colab_type": "code",
        "colab": {}
      },
      "cell_type": "code",
      "source": [
        "\n",
        "global_best,bestCostList,bestPositionList = PSO(problem, params)"
      ],
      "execution_count": 0,
      "outputs": []
    },
    {
      "metadata": {
        "id": "Lux6Pg7IkS6K",
        "colab_type": "text"
      },
      "cell_type": "markdown",
      "source": [
        "# Result"
      ]
    },
    {
      "metadata": {
        "id": "muasa1gmKS4Z",
        "colab_type": "code",
        "colab": {}
      },
      "cell_type": "code",
      "source": [
        "wallList = problem.wallList\n",
        "startPos = problem.startPos\n",
        "goalPos = problem.goalPos\n",
        "nPos = problem.nPos"
      ],
      "execution_count": 0,
      "outputs": []
    },
    {
      "metadata": {
        "id": "gBK52GiQli96",
        "colab_type": "text"
      },
      "cell_type": "markdown",
      "source": [
        "## Plot the best path"
      ]
    },
    {
      "metadata": {
        "id": "Cit4j-AtJC0w",
        "colab_type": "code",
        "colab": {
          "base_uri": "https://localhost:8080/",
          "height": 324
        },
        "outputId": "e5203ae2-e663-40e1-896d-9f7d0475054f"
      },
      "cell_type": "code",
      "source": [
        "plt.figure(figsize=(5,5))\n",
        "\n",
        "pathX = [startPos[0]]\n",
        "pathX.extend([global_best.Position[2*i] for i in range(nPos)])\n",
        "pathX.extend([goalPos[0]])\n",
        "\n",
        "pathY = [startPos[1]]\n",
        "pathY.extend([global_best.Position[2*i+1] for i in range(nPos)])\n",
        "pathY.extend([goalPos[1]])\n",
        "\n",
        "\n",
        "for wall in wallList:\n",
        "  plt.plot([wall[0][0],wall[1][0]], [wall[0][1],wall[1][1]], 'k-', lw=1)\n",
        "\n",
        "\n",
        "plt.plot(pathX,pathY,\"m-o\",lw=3)\n",
        "plt.scatter(goalPos[0],goalPos[1],s=300,marker='o') # Plot Goal Position\n",
        "plt.scatter(startPos[0],startPos[1],s=300,marker='o') # Plot Start Position\n",
        "\n",
        "plt.xlim(1,-1)\n",
        "plt.ylim(-1,1)\n",
        "plt.axes().set_aspect('equal')\n"
      ],
      "execution_count": 61,
      "outputs": [
        {
          "output_type": "display_data",
          "data": {
            "image/png": "[encoded data removed]",
            "text/plain": [
              "<matplotlib.figure.Figure at 0x7fabf654da50>"
            ]
          },
          "metadata": {
            "tags": []
          }
        }
      ]
    },
    {
      "metadata": {
        "id": "KoxrXR_ilnOK",
        "colab_type": "text"
      },
      "cell_type": "markdown",
      "source": [
        "## Plot best path with best path of each iteration"
      ]
    },
    {
      "metadata": {
        "id": "bBHs3QCalAOO",
        "colab_type": "code",
        "colab": {
          "base_uri": "https://localhost:8080/",
          "height": 343
        },
        "outputId": "2b866075-12e1-4749-9ef5-7acb206f6e42"
      },
      "cell_type": "code",
      "source": [
        "plt.figure(figsize=(5,5))\n",
        "\n",
        "for wall in wallList:\n",
        "  plt.plot([wall[0][0],wall[1][0]], [wall[0][1],wall[1][1]], 'k-', lw=1)\n",
        "\n",
        "plt.scatter(goalPos[0],goalPos[1],s=300,marker='o') # Plot Goal Position\n",
        "plt.scatter(startPos[0],startPos[1],s=300,marker='o') # Plot Start Position\n",
        "\n",
        "plt.xlim(1,-1)\n",
        "plt.ylim(-1,1)\n",
        "plt.axes().set_aspect('equal')\n",
        "\n",
        "for k in range(params.maxIt):\n",
        "  pathX = [startPos[0]]\n",
        "  pathX.extend([bestPositionList[k][2*i] for i in range(nPos)])\n",
        "  pathX.extend([goalPos[0]])\n",
        "\n",
        "  pathY = [startPos[1]]\n",
        "  pathY.extend([bestPositionList[k][2*i+1] for i in range(nPos)])\n",
        "  pathY.extend([goalPos[1]])\n",
        "  plt.plot(pathX,pathY,\"c-\",lw=3,alpha=0.1)\n",
        "\n",
        "plt.plot(pathX,pathY,\"m-o\",lw=3)\n",
        " "
      ],
      "execution_count": 62,
      "outputs": [
        {
          "output_type": "execute_result",
          "data": {
            "text/plain": [
              "[<matplotlib.lines.Line2D at 0x7fabf3742ad0>]"
            ]
          },
          "metadata": {
            "tags": []
          },
          "execution_count": 62
        },
        {
          "output_type": "display_data",
          "data": {
            "image/png": "[encoded data removed]",
            "text/plain": [
              "<matplotlib.figure.Figure at 0x7fabf4df5850>"
            ]
          },
          "metadata": {
            "tags": []
          }
        }
      ]
    },
    {
      "metadata": {
        "id": "i_kLtkUzluQw",
        "colab_type": "text"
      },
      "cell_type": "markdown",
      "source": [
        "## Display learning rate"
      ]
    },
    {
      "metadata": {
        "id": "V3gEEAlFT2-Z",
        "colab_type": "code",
        "colab": {
          "base_uri": "https://localhost:8080/",
          "height": 301
        },
        "outputId": "950fb223-509d-4db7-ba66-f86fc1b0527d"
      },
      "cell_type": "code",
      "source": [
        "\n",
        "plt.plot(bestCostList)\n",
        "plt.xscale('log')\n",
        "# plt.yscale('log')\n",
        "\n",
        "plt.xlabel('Iteration')\n",
        "\n",
        "plt.ylabel('Cost')"
      ],
      "execution_count": 49,
      "outputs": [
        {
          "output_type": "execute_result",
          "data": {
            "text/plain": [
              "Text(0,0.5,u'Cost')"
            ]
          },
          "metadata": {
            "tags": []
          },
          "execution_count": 49
        },
        {
          "output_type": "display_data",
          "data": {
            "image/png": "[encoded data removed]",
            "text/plain": [
              "<matplotlib.figure.Figure at 0x7f651af71450>"
            ]
          },
          "metadata": {
            "tags": []
          }
        }
      ]
    },
    {
      "metadata": {
        "id": "tX8tf0yYocsE",
        "colab_type": "code",
        "colab": {}
      },
      "cell_type": "code",
      "source": [
        ""
      ],
      "execution_count": 0,
      "outputs": []
    }
  ]
}